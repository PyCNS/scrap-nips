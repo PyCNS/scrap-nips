{
 "cells": [
  {
   "cell_type": "code",
   "execution_count": null,
   "metadata": {},
   "outputs": [],
   "source": [
    "import urllib\n",
    "from urllib.request import urlopen\n",
    "import lxml.html\n",
    "import requests"
   ]
  },
  {
   "cell_type": "code",
   "execution_count": null,
   "metadata": {},
   "outputs": [],
   "source": [
    "def getSubLinks(url):\n",
    "    sublinks = []\n",
    "    connection = urlopen(url)\n",
    "    dom = lxml.html.fromstring(connection.read())\n",
    "    for link in dom.xpath('//a/@href'):\n",
    "        if not link.startswith('https'):\n",
    "            sublinks.append(url+link)\n",
    "        else:\n",
    "            sublinks.append(link)\n",
    "    return sublinks"
   ]
  },
  {
   "cell_type": "code",
   "execution_count": null,
   "metadata": {},
   "outputs": [],
   "source": [
    "def download_file(download_url):\n",
    "    response = urlopen(download_url)\n",
    "    file = open(\"NIPS Papers/{}\".format(download_url.split('/')[-1]), 'wb')\n",
    "    file.write(response.read())\n",
    "    file.close()\n",
    "    print(\"{} Downloaded\".format(download_url.split('/')[-1]))"
   ]
  },
  {
   "cell_type": "code",
   "execution_count": null,
   "metadata": {},
   "outputs": [],
   "source": [
    "def filterPapers():\n",
    "    NIPS_main = getSubLinks('https://papers.nips.cc')\n",
    "    NIPS_main = [x for x in NIPS_main if ('https://papers.nips.cc/book/' in x)]\n",
    "    outer_list = []\n",
    "    for x in NIPS_main:\n",
    "        print(x)\n",
    "        filtered_pings = getSubLinks(x)\n",
    "        to_remove = filtered_pings[0].split('/')[4]\n",
    "        filtered_pings = [x.replace('/{}/'.format(to_remove), '') for x in filtered_pings]\n",
    "        filtered_pings = [x.replace('book', '') for x in filtered_pings]\n",
    "        outer_list.append(filtered_pings)\n",
    "        \n",
    "    return outer_list"
   ]
  },
  {
   "cell_type": "code",
   "execution_count": null,
   "metadata": {},
   "outputs": [],
   "source": [
    "papers = filterPapers()"
   ]
  },
  {
   "cell_type": "code",
   "execution_count": null,
   "metadata": {},
   "outputs": [],
   "source": [
    "papers = [paper for sublist in papers for paper in sublist if '/paper/' in paper]"
   ]
  },
  {
   "cell_type": "code",
   "execution_count": null,
   "metadata": {},
   "outputs": [],
   "source": [
    "papers = ['{}.pdf'.format(x) for x in papers]"
   ]
  },
  {
   "cell_type": "code",
   "execution_count": null,
   "metadata": {},
   "outputs": [],
   "source": [
    "for p in papers:\n",
    "    download_file(p)"
   ]
  }
 ],
 "metadata": {
  "kernelspec": {
   "display_name": "Python 3",
   "language": "python",
   "name": "python3"
  },
  "language_info": {
   "codemirror_mode": {
    "name": "ipython",
    "version": 3
   },
   "file_extension": ".py",
   "mimetype": "text/x-python",
   "name": "python",
   "nbconvert_exporter": "python",
   "pygments_lexer": "ipython3",
   "version": "3.6.8"
  }
 },
 "nbformat": 4,
 "nbformat_minor": 2
}
